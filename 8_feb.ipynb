{
 "cells": [
  {
   "cell_type": "markdown",
   "metadata": {},
   "source": [
    "## Q1. What is Abstraction in OOps? Explain with an example.\n"
   ]
  },
  {
   "cell_type": "markdown",
   "metadata": {},
   "source": [
    "### Ans:--"
   ]
  },
  {
   "cell_type": "markdown",
   "metadata": {},
   "source": [
    "Abstraction in OOP refers to the concept of hiding complex implementation details and showing only relevant functionalities. In Python, you can achieve abstraction through abstract classes and methods using the abc module."
   ]
  },
  {
   "cell_type": "markdown",
   "metadata": {},
   "source": [
    "#### Example:--"
   ]
  },
  {
   "cell_type": "code",
   "execution_count": null,
   "metadata": {},
   "outputs": [],
   "source": []
  },
  {
   "cell_type": "code",
   "execution_count": 5,
   "metadata": {},
   "outputs": [
    {
     "name": "stdout",
     "output_type": "stream",
     "text": [
      "Area of the circle with radius 5.0 is: 78.5\n",
      "Area of the square with side 3.0 is: 9.0\n"
     ]
    }
   ],
   "source": [
    "from abc import ABC, abstractmethod\n",
    "\n",
    "class Shape(ABC):\n",
    "    @abstractmethod\n",
    "    def area(self):\n",
    "        pass\n",
    "\n",
    "class Circle(Shape):\n",
    "    def __init__(self, radius):\n",
    "        self.radius = radius\n",
    "\n",
    "    def area(self):\n",
    "        return 3.14 * self.radius * self.radius\n",
    "\n",
    "class Square(Shape):\n",
    "    def __init__(self, side):\n",
    "        self.side = side\n",
    "\n",
    "    def area(self):\n",
    "        return self.side * self.side\n",
    "\n",
    "# Take user input\n",
    "radius = float(input(\"Enter the radius of the circle: \"))\n",
    "side = float(input(\"Enter the side of the square: \"))\n",
    "\n",
    "# Create instances of Circle and Square\n",
    "circle_instance = Circle(radius)\n",
    "square_instance = Square(side)\n",
    "\n",
    "# Call the area function for Circle\n",
    "circle_area = circle_instance.area()\n",
    "print(f\"Area of the circle with radius {radius} is: {circle_area}\")\n",
    "\n",
    "# Call the area function for Square\n",
    "square_area = square_instance.area()\n",
    "print(f\"Area of the square with side {side} is: {square_area}\")\n"
   ]
  },
  {
   "cell_type": "markdown",
   "metadata": {},
   "source": [
    "## Q2. Differentiate between Abstraction and Encapsulation. Explain with an example."
   ]
  },
  {
   "cell_type": "markdown",
   "metadata": {},
   "source": [
    "### Ans:--"
   ]
  },
  {
   "cell_type": "markdown",
   "metadata": {},
   "source": [
    "Abstraction and encapsulation are two fundamental concepts in object-oriented programming, but they serve different purposes.\n",
    "\n",
    "#### Abstraction:\n",
    "\n",
    "- Definition: Abstraction is the concept of hiding complex implementation details and showing only relevant features of an object.\n",
    "- Purpose: It focuses on what an object does rather than how it achieves its functionality.\n",
    "- Example: In the previous example of shapes, the Shape class serves as an abstraction. It defines the concept of a shape and declares the area method without specifying how each shape calculates its area. The abstraction allows users to work with the general concept of a shape without being concerned about the specific details of each shape's implementation.\n",
    "\n",
    "\n",
    "#### Encapsulation:\n",
    "\n",
    "- Definition: Encapsulation is the bundling of data (attributes) and methods (functions) that operate on the data into a single unit or class.\n",
    "- Purpose: It hides the internal state of an object and restricts direct access to some of its components, promoting data integrity and security.\n",
    "- Example: Continuing with the shapes example, encapsulation is demonstrated in the Circle and Square classes. Each class encapsulates its specific attributes (radius for Circle, side for Square) and the method (area) that operates on those attributes. This encapsulation helps in organizing and controlling access to the data associated with each shape."
   ]
  },
  {
   "cell_type": "markdown",
   "metadata": {},
   "source": [
    "## Q3. What is abc module in python? Why is it used?\n",
    "\n"
   ]
  },
  {
   "cell_type": "markdown",
   "metadata": {},
   "source": [
    "### Ans:-"
   ]
  },
  {
   "cell_type": "markdown",
   "metadata": {},
   "source": [
    "In Python, the abc module stands for \"Abstract Base Classes,\" and it provides a way to work with abstract classes and methods. Abstract classes are classes that cannot be instantiated and are meant to be subclassed by other classes, which must implement the abstract methods declared in the abstract class.\n",
    "\n",
    "The key component of the abc module is the ABC (Abstract Base Class) metaclass, which is used to define abstract base classes. Abstract classes can have abstract methods, which are declared but not implemented in the abstract class itself. Subclasses must provide concrete implementations for these abstract methods."
   ]
  },
  {
   "cell_type": "markdown",
   "metadata": {},
   "source": [
    "The abc module is used to enforce a structure in object-oriented programming, ensuring that certain methods must be implemented by the subclasses. This helps in designing reliable and maintainable code by providing a clear and standardized interface for classes that share common functionality. It promotes code consistency and makes it easier for developers to understand how to use and extend classes within a given hierarchy."
   ]
  },
  {
   "cell_type": "markdown",
   "metadata": {},
   "source": [
    "## Q4. How can we achieve data abstraction?"
   ]
  },
  {
   "cell_type": "markdown",
   "metadata": {},
   "source": [
    "### Ans:--"
   ]
  },
  {
   "cell_type": "markdown",
   "metadata": {},
   "source": [
    "Data abstraction in programming refers to the concept of hiding the complex implementation details of data and exposing only the relevant features or functionalities. In object-oriented programming (OOP), data abstraction is often achieved through the use of abstract classes and abstract methods. Here's how you can achieve data abstraction in Python:\n",
    "\n",
    "#### Use Abstract Classes:\n",
    "- Define an abstract class using the ABC (Abstract Base Class) metaclass from the abc module.\n",
    "- Declare abstract methods within the abstract class using the @abstractmethod decorator.\n",
    "\n",
    "\n",
    "#### Example:"
   ]
  },
  {
   "cell_type": "code",
   "execution_count": 8,
   "metadata": {},
   "outputs": [],
   "source": [
    "from abc import ABC, abstractmethod\n",
    "\n",
    "class AbstractClass(ABC):\n",
    "    @abstractmethod\n",
    "    def abstract_method(self):\n",
    "        pass\n"
   ]
  },
  {
   "cell_type": "markdown",
   "metadata": {},
   "source": [
    "#### 1.Create Concrete Classes:\n",
    "- Create concrete subclasses that inherit from the abstract class.\n",
    "- Implement the abstract methods declared in the abstract class.\n",
    "\n",
    "#### Example:--\n"
   ]
  },
  {
   "cell_type": "code",
   "execution_count": 9,
   "metadata": {},
   "outputs": [
    {
     "name": "stdout",
     "output_type": "stream",
     "text": [
      "Implementation of the abstract method\n"
     ]
    }
   ],
   "source": [
    "class ConcreteClass(AbstractClass):\n",
    "    def abstract_method(self):\n",
    "        print(\"Implementation of the abstract method\")\n",
    "\n",
    "# Creating an instance of the concrete class\n",
    "instance = ConcreteClass()\n",
    "instance.abstract_method()\n"
   ]
  },
  {
   "cell_type": "markdown",
   "metadata": {},
   "source": [
    "#### Instantiate Concrete Classes:\n",
    " - Instantiate objects from concrete classes.\n",
    " - Access and use the methods implemented in the concrete classes without worrying about the underlying details.\n",
    "\n",
    " #### Example:--"
   ]
  },
  {
   "cell_type": "code",
   "execution_count": 10,
   "metadata": {},
   "outputs": [
    {
     "name": "stdout",
     "output_type": "stream",
     "text": [
      "Implementation of the abstract method\n"
     ]
    }
   ],
   "source": [
    "# Creating an instance of the concrete class\n",
    "instance = ConcreteClass()\n",
    "\n",
    "# Calling the abstract method without knowing its implementation details\n",
    "instance.abstract_method()\n"
   ]
  },
  {
   "cell_type": "markdown",
   "metadata": {},
   "source": [
    "## Q5. Can we create an instance of an abstract class? Explain your answer."
   ]
  },
  {
   "cell_type": "markdown",
   "metadata": {},
   "source": [
    "### Ans"
   ]
  },
  {
   "cell_type": "markdown",
   "metadata": {},
   "source": [
    "No, you cannot create an instance of an abstract class in Python. Abstract classes are meant to be subclassed, and they typically contain one or more abstract methods that must be implemented by concrete subclasses. Attempting to create an instance of an abstract class will result in a TypeError.\n",
    "\n",
    "#### Here's an example to illustrate this:"
   ]
  },
  {
   "cell_type": "code",
   "execution_count": 12,
   "metadata": {},
   "outputs": [
    {
     "ename": "TypeError",
     "evalue": "Can't instantiate abstract class AbstractClass with abstract method abstract_method",
     "output_type": "error",
     "traceback": [
      "\u001b[1;31m---------------------------------------------------------------------------\u001b[0m",
      "\u001b[1;31mTypeError\u001b[0m                                 Traceback (most recent call last)",
      "Cell \u001b[1;32mIn[12], line 9\u001b[0m\n\u001b[0;32m      6\u001b[0m         \u001b[38;5;28;01mpass\u001b[39;00m\n\u001b[0;32m      8\u001b[0m \u001b[38;5;66;03m# Attempting to create an instance of the abstract class will raise a TypeError\u001b[39;00m\n\u001b[1;32m----> 9\u001b[0m instance \u001b[38;5;241m=\u001b[39m \u001b[43mAbstractClass\u001b[49m\u001b[43m(\u001b[49m\u001b[43m)\u001b[49m  \u001b[38;5;66;03m# Uncommenting this line will raise a TypeError\u001b[39;00m\n",
      "\u001b[1;31mTypeError\u001b[0m: Can't instantiate abstract class AbstractClass with abstract method abstract_method"
     ]
    }
   ],
   "source": [
    "from abc import ABC, abstractmethod\n",
    "\n",
    "class AbstractClass(ABC):\n",
    "    @abstractmethod\n",
    "    def abstract_method(self):\n",
    "        pass\n",
    "\n",
    "# Attempting to create an instance of the abstract class will raise a TypeError\n",
    "# instance = AbstractClass()  # Uncommenting this line will raise a TypeError\n"
   ]
  },
  {
   "cell_type": "markdown",
   "metadata": {},
   "source": []
  }
 ],
 "metadata": {
  "kernelspec": {
   "display_name": "Python 3",
   "language": "python",
   "name": "python3"
  },
  "language_info": {
   "codemirror_mode": {
    "name": "ipython",
    "version": 3
   },
   "file_extension": ".py",
   "mimetype": "text/x-python",
   "name": "python",
   "nbconvert_exporter": "python",
   "pygments_lexer": "ipython3",
   "version": "3.11.2"
  }
 },
 "nbformat": 4,
 "nbformat_minor": 2
}
